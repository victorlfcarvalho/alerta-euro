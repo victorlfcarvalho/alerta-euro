{
  "cells": [
    {
      "cell_type": "markdown",
      "metadata": {
        "id": "view-in-github",
        "colab_type": "text"
      },
      "source": [
        "<a href=\"https://colab.research.google.com/github/victorlfcarvalho/alerta-euro/blob/main/AlertaEuro.ipynb\" target=\"_parent\"><img src=\"https://colab.research.google.com/assets/colab-badge.svg\" alt=\"Open In Colab\"/></a>"
      ]
    },
    {
      "cell_type": "markdown",
      "source": [
        "#Alerta Cotação Euro"
      ],
      "metadata": {
        "id": "AQuUXMHJloRX"
      }
    },
    {
      "cell_type": "code",
      "source": [
        "# Notificação quando cotação do Euro <= 5.40\n",
        "\n",
        "import requests\n",
        "\n",
        "# pegar a informação que eu quero\n",
        "requisicao = requests.get('https://economia.awesomeapi.com.br/last/EUR-BRL')\n",
        "requisicao_dicionario = requisicao.json()\n",
        "cotacao = float(requisicao_dicionario['EURBRL']['bid'])\n",
        "print(cotacao)\n",
        "\n",
        "# enviar aviso por e-mail\n",
        "import smtplib\n",
        "import email.message\n",
        "\n",
        "def enviar_email(cotacao):\n",
        "  corpo_email = f\"\"\"\n",
        "    <p>Euro está igual ou abaixo de R$5.40.\\nCotação atual: R${cotacao}</p>\n",
        "    \"\"\"\n",
        "\n",
        "  msg = email.message.Message()\n",
        "  msg['Subject'] = 'Euro está igual ou abaixo de R$ 5.40'\n",
        "  msg['From'] = 'seuemail@gmail.com'\n",
        "  msg['To'] = 'seuemail@gmail.com'\n",
        "  password = 'suasenha'\n",
        "  msg.add_header('Content-Type', 'text/html')\n",
        "  msg.set_payload(corpo_email)\n",
        "\n",
        "  s = smtplib.SMTP('smtp.gmail.com: 587')\n",
        "  s.starttls()\n",
        "\n",
        "  # Login Credentials for sending the mail\n",
        "  s.login(msg['From'], password)\n",
        "  s.sendmail(msg['From'], [msg['To']], msg.as_string().encode('utf-8'))\n",
        "  print('Email enviado')\n",
        "\n",
        "if cotacao <= 5.40:\n",
        "  enviar_email(cotacao)"
      ],
      "metadata": {
        "id": "YOEagb2bkuyy"
      },
      "execution_count": null,
      "outputs": []
    }
  ],
  "metadata": {
    "colab": {
      "provenance": [],
      "authorship_tag": "ABX9TyMcFOfm8Y+t+y247umLY5wk",
      "include_colab_link": true
    },
    "kernelspec": {
      "display_name": "Python 3",
      "name": "python3"
    },
    "language_info": {
      "name": "python"
    }
  },
  "nbformat": 4,
  "nbformat_minor": 0
}